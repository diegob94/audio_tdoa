{
 "cells": [
  {
   "cell_type": "code",
   "execution_count": null,
   "id": "58d939c7-ec1d-4a80-afb6-0b79b3a2da7a",
   "metadata": {},
   "outputs": [],
   "source": [
    "import numpy as np\n",
    "import plotly.io as pio\n",
    "import plotly.express as px\n",
    "pio.templates.default = \"plotly_dark\"\n",
    "from plotly.subplots import make_subplots\n",
    "import plotly.graph_objects as go\n",
    "\n",
    "def add_noise(t,noise):\n",
    "    r = []\n",
    "    for i in range(N):\n",
    "        if i == 0:\n",
    "            new = t[i]+noise[i]\n",
    "        else:\n",
    "            new = max(lnew,t[i]+noise[i])\n",
    "        r.append(new)\n",
    "        lnew = new\n",
    "    return np.array(r)"
   ]
  },
  {
   "cell_type": "code",
   "execution_count": 181,
   "id": "e09bae44-f332-4208-87e1-3b46d3f9c42e",
   "metadata": {},
   "outputs": [],
   "source": [
    "fs = 48e3\n",
    "N = 100\n",
    "tsf_error = 1000\n",
    "max_init_delay = 1000\n",
    "\n",
    "t = np.arange(N)/fs\n",
    "noise = np.random.normal(0, (tsf_error/4)/1e6, N)\n",
    "init_delay = np.random.uniform(0,max_init_delay/1e6)\n",
    "t_sim = init_delay + add_noise(t,noise)"
   ]
  },
  {
   "cell_type": "code",
   "execution_count": null,
   "id": "9bad17e9-13d3-4cb4-8cf3-c6b3f69b42b2",
   "metadata": {},
   "outputs": [],
   "source": [
    "t_sim = init_delay + t + noise\n",
    "fig = make_subplots(rows=2, cols=1)\n",
    "fig.append_trace(go.Scatter(x=t,y=t_sim), row=1, col=1)\n",
    "fig.append_trace(go.Scatter(y=np.diff(t_sim), mode='markers'), row=2, col=1)\n",
    "fig"
   ]
  },
  {
   "cell_type": "code",
   "execution_count": null,
   "id": "7251e86c-de85-440b-b2d6-496026620832",
   "metadata": {},
   "outputs": [],
   "source": [
    "t_sim = init_delay + add_noise(t,noise)\n",
    "fig = make_subplots(rows=2, cols=1)\n",
    "fig.append_trace(go.Scatter(x=t,y=t_sim), row=1, col=1)\n",
    "fig.append_trace(go.Scatter(y=np.diff(t_sim), mode='markers'), row=2, col=1)\n",
    "fig"
   ]
  },
  {
   "cell_type": "code",
   "execution_count": null,
   "id": "4d83c14d-422b-4410-bbae-114e2ee133e2",
   "metadata": {},
   "outputs": [],
   "source": []
  }
 ],
 "metadata": {
  "kernelspec": {
   "display_name": "Python 3 (ipykernel)",
   "language": "python",
   "name": "python3"
  },
  "language_info": {
   "codemirror_mode": {
    "name": "ipython",
    "version": 3
   },
   "file_extension": ".py",
   "mimetype": "text/x-python",
   "name": "python",
   "nbconvert_exporter": "python",
   "pygments_lexer": "ipython3",
   "version": "3.8.10"
  }
 },
 "nbformat": 4,
 "nbformat_minor": 5
}
